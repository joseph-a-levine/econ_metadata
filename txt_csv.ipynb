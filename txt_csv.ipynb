{
 "cells": [
  {
   "cell_type": "code",
   "execution_count": 1,
   "metadata": {},
   "outputs": [],
   "source": [
    "# Here's what I'm going to need:\n",
    "\n",
    "import time, glob\n",
    "import os\n",
    "import shutil\n",
    "from io import StringIO\n",
    "import pandas as pd\n",
    "from selenium import webdriver\n",
    "from selenium.common.exceptions import NoSuchElementException\n",
    "from bs4 import BeautifulSoup\n",
    "import re\n",
    "\n",
    "import concurrent.futures\n",
    "\n"
   ]
  },
  {
   "cell_type": "code",
   "execution_count": 2,
   "metadata": {},
   "outputs": [],
   "source": [
    "os.path = 'C:/Users/240-370-8956/Dropbox/Research/JEL_codes/Data/econlit_txt/econlit_files'"
   ]
  },
  {
   "cell_type": "code",
   "execution_count": 3,
   "metadata": {},
   "outputs": [],
   "source": [
    "outfilepath = 'C:/Users/240-370-8956/Dropbox/Research/JEL_codes/Data/econlit_txt/'\n",
    "outfilename = outfilepath + 'all_' + str((int(time.time()))) + \".txt\"\n",
    "\n"
   ]
  },
  {
   "cell_type": "code",
   "execution_count": 5,
   "metadata": {},
   "outputs": [
    {
     "name": "stderr",
     "output_type": "stream",
     "text": [
      "b'Skipping line 15641: expected 11 fields, saw 12\\n'\n"
     ]
    }
   ],
   "source": [
    "#testing\n",
    "\n",
    "filenames = os.listdir('C:/Users/240-370-8956/Dropbox/Research/JEL_codes/Data/econlit_txt/blah1')\n",
    "\n",
    "\n",
    "path_txt = 'C:/Users/240-370-8956/Dropbox/Research/JEL_codes/Data/econlit_txt/blah1'\n",
    "col_list = [ 'AU', 'AF', 'SO', 'DT', 'DE', 'PT', 'IS', 'UD', 'AN','\\n']\n",
    "\n",
    "\n",
    "with open(outfilename, 'wt') as outfile:\n",
    "    for fname in filenames:\n",
    "        with open(path_txt+'/'+fname, 'rt') as readfile:\n",
    "            infile = readfile.readlines()\n",
    "            for line in infile:\n",
    "                if line[:2] in col_list: outfile.write(line[4:])\n",
    "                elif line[:2] == 'TI': outfile.write('\\n'+line[4:])\n",
    "            outfile.write(\"\\n\\n\")\n",
    "            \n",
    "            \n",
    "with open(outfilepath + 'all_1606612595'+'.txt', 'r') as f:\n",
    "    data = f.read().replace('\\n','@').replace('@@','\\n')\n",
    "    \n",
    "data = data[1:]\n",
    "\n",
    "    \n",
    "set1 = pd.read_csv(pd.compat.StringIO(data), header=None, sep = '@', low_memory=True, error_bad_lines=False)\n"
   ]
  },
  {
   "cell_type": "code",
   "execution_count": 6,
   "metadata": {},
   "outputs": [],
   "source": [
    "#testing\n",
    "\n",
    "filenames = os.listdir('C:/Users/240-370-8956/Dropbox/Research/JEL_codes/Data/econlit_txt/blah2')\n",
    "\n",
    "\n",
    "path_txt = 'C:/Users/240-370-8956/Dropbox/Research/JEL_codes/Data/econlit_txt/blah2'\n",
    "col_list = [ 'AU', 'AF', 'SO', 'DT', 'DE', 'PT', 'IS', 'UD', 'AN','\\n']\n",
    "\n",
    "\n",
    "with open(outfilename, 'wt') as outfile:\n",
    "    for fname in filenames:\n",
    "        with open(path_txt+'/'+fname, 'rt') as readfile:\n",
    "            infile = readfile.readlines()\n",
    "            for line in infile:\n",
    "                if line[:2] in col_list: outfile.write(line[4:])\n",
    "                elif line[:2] == 'TI': outfile.write('\\n'+line[4:])\n",
    "            outfile.write(\"\\n\\n\")\n",
    "            \n",
    "            \n",
    "with open(outfilepath + 'all_1606612595'+'.txt', 'r') as f:\n",
    "    data = f.read().replace('\\n','@').replace('@@','\\n')\n",
    "    \n",
    "data = data[1:]\n",
    "\n",
    "    \n",
    "set2 = pd.read_csv(pd.compat.StringIO(data), header=None, sep = '@', low_memory=True, error_bad_lines=False)\n"
   ]
  },
  {
   "cell_type": "code",
   "execution_count": 7,
   "metadata": {},
   "outputs": [
    {
     "name": "stderr",
     "output_type": "stream",
     "text": [
      "b'Skipping line 14663: expected 10 fields, saw 11\\nSkipping line 24014: expected 10 fields, saw 11\\nSkipping line 26959: expected 10 fields, saw 12\\n'\n"
     ]
    }
   ],
   "source": [
    "#testing\n",
    "\n",
    "filenames = os.listdir('C:/Users/240-370-8956/Dropbox/Research/JEL_codes/Data/econlit_txt/blah3')\n",
    "\n",
    "\n",
    "path_txt = 'C:/Users/240-370-8956/Dropbox/Research/JEL_codes/Data/econlit_txt/blah3'\n",
    "col_list = [ 'AU', 'AF', 'SO', 'DT', 'DE', 'PT', 'IS', 'UD', 'AN','\\n']\n",
    "\n",
    "\n",
    "with open(outfilename, 'wt') as outfile:\n",
    "    for fname in filenames:\n",
    "        with open(path_txt+'/'+fname, 'rt') as readfile:\n",
    "            infile = readfile.readlines()\n",
    "            for line in infile:\n",
    "                if line[:2] in col_list: outfile.write(line[4:])\n",
    "                elif line[:2] == 'TI': outfile.write('\\n'+line[4:])\n",
    "            outfile.write(\"\\n\\n\")\n",
    "            \n",
    "            \n",
    "with open(outfilepath + 'all_1606612595'+'.txt', 'r') as f:\n",
    "    data = f.read().replace('\\n','@').replace('@@','\\n')\n",
    "    \n",
    "data = data[1:]\n",
    "\n",
    "    \n",
    "set3 = pd.read_csv(pd.compat.StringIO(data), header=None, sep = '@', low_memory=True, error_bad_lines=False)\n"
   ]
  },
  {
   "cell_type": "code",
   "execution_count": 8,
   "metadata": {},
   "outputs": [
    {
     "name": "stderr",
     "output_type": "stream",
     "text": [
      "b'Skipping line 12774: expected 10 fields, saw 11\\nSkipping line 49019: expected 10 fields, saw 11\\n'\n",
      "b'Skipping line 67173: expected 10 fields, saw 11\\nSkipping line 69253: expected 10 fields, saw 11\\n'\n"
     ]
    }
   ],
   "source": [
    "#testing\n",
    "\n",
    "filenames = os.listdir('C:/Users/240-370-8956/Dropbox/Research/JEL_codes/Data/econlit_txt/blah4')\n",
    "\n",
    "\n",
    "path_txt = 'C:/Users/240-370-8956/Dropbox/Research/JEL_codes/Data/econlit_txt/blah4'\n",
    "col_list = [ 'AU', 'AF', 'SO', 'DT', 'DE', 'PT', 'IS', 'UD', 'AN','\\n']\n",
    "\n",
    "\n",
    "with open(outfilename, 'wt') as outfile:\n",
    "    for fname in filenames:\n",
    "        with open(path_txt+'/'+fname, 'rt') as readfile:\n",
    "            infile = readfile.readlines()\n",
    "            for line in infile:\n",
    "                if line[:2] in col_list: outfile.write(line[4:])\n",
    "                elif line[:2] == 'TI': outfile.write('\\n'+line[4:])\n",
    "            outfile.write(\"\\n\\n\")\n",
    "            \n",
    "            \n",
    "with open(outfilepath + 'all_1606612595'+'.txt', 'r') as f:\n",
    "    data = f.read().replace('\\n','@').replace('@@','\\n')\n",
    "    \n",
    "data = data[1:]\n",
    "\n",
    "    \n",
    "set4 = pd.read_csv(pd.compat.StringIO(data), header=None, sep = '@', low_memory=True, error_bad_lines=False)\n"
   ]
  },
  {
   "cell_type": "code",
   "execution_count": 9,
   "metadata": {},
   "outputs": [],
   "source": [
    "all_papers = pd.concat([set1, set2, set3, set4], ignore_index=True)"
   ]
  },
  {
   "cell_type": "code",
   "execution_count": null,
   "metadata": {},
   "outputs": [],
   "source": [
    "all_papers.to_csv('C:/Users/240-370-8956/Dropbox/Research/JEL_codes/Data/10_14_all')"
   ]
  },
  {
   "cell_type": "code",
   "execution_count": null,
   "metadata": {},
   "outputs": [],
   "source": []
  },
  {
   "cell_type": "code",
   "execution_count": 4,
   "metadata": {},
   "outputs": [],
   "source": [
    "#testing\n",
    "\n",
    "filenames = os.listdir('C:/Users/240-370-8956/Dropbox/Research/JEL_codes/Data/econlit_txt/blah3')\n",
    "\n",
    "\n",
    "path_txt = 'C:/Users/240-370-8956/Dropbox/Research/JEL_codes/Data/econlit_txt/blah3'\n",
    "col_list = [ 'AU', 'AF', 'SO', 'DT', 'DE', 'PT', 'IS', 'UD', 'AN','\\n']\n",
    "\n",
    "\n",
    "with open(outfilename, 'wt') as outfile:\n",
    "    for fname in filenames:\n",
    "        with open(path_txt+'/'+fname, 'rt') as readfile:\n",
    "            infile = readfile.readlines()\n",
    "            for line in infile:\n",
    "                if line[:2] in col_list: outfile.write(line[4:])\n",
    "                elif line[:2] == 'TI': outfile.write('\\n'+line[4:])\n",
    "            outfile.write(\"\\n\\n\")\n"
   ]
  },
  {
   "cell_type": "code",
   "execution_count": 53,
   "metadata": {},
   "outputs": [],
   "source": [
    "with open(outfilepath + 'all_1606590872'+'.txt', 'r') as f:\n",
    "    data = f.read().replace('\\n','@').replace('@@','\\n')\n",
    "    \n",
    "data = data[1:]\n",
    "\n",
    "    \n"
   ]
  },
  {
   "cell_type": "code",
   "execution_count": 54,
   "metadata": {},
   "outputs": [
    {
     "data": {
      "text/plain": [
       "\"Un modello di governance per i processi di trasformazione urbana culture led. (A Model of Governance for Urban Culture Led Transformation Processes. With English summary.)@Crociata, Alessandro@G d'Annunzio U Chieti-Pescara@Risparmio, April-June 2010, v. 58, iss. 2, pp. 67-97@April-June 2010@Positive Analysis of Policy Formulation and Implementation          (D78); Regional Economic Activity: Growth, Development, Environmental Issues, and Changes          (R11); Regional Development Planning and Policy          (R58); Economic Sociology; Economic Anthropology; Language; Social and Economic Stratification          (Z13); @00355615@Journal Article@20170601@1642841\\nIl mezzogiorno nella storia d'italia. (The Mezzogiorno in the Italian History. With English summary.)@Sabattini, Gianfranco@U Cagliari@Risparmio, April-June 2010, v. 58, iss. 2, pp. 35-66@April-June 2010@Macroeconomics: Production          (E23); Regional and Urban History: Europe: Pre-1913          (N93); Regional and Urban His\""
      ]
     },
     "execution_count": 54,
     "metadata": {},
     "output_type": "execute_result"
    }
   ],
   "source": [
    "data[:1000]\n"
   ]
  },
  {
   "cell_type": "code",
   "execution_count": 55,
   "metadata": {},
   "outputs": [
    {
     "name": "stderr",
     "output_type": "stream",
     "text": [
      "b'Skipping line 14663: expected 10 fields, saw 11\\nSkipping line 24014: expected 10 fields, saw 11\\nSkipping line 26959: expected 10 fields, saw 12\\n'\n"
     ]
    }
   ],
   "source": [
    "set3 = pd.read_csv(pd.compat.StringIO(data), header=None, sep = '@', low_memory=True, error_bad_lines=False)"
   ]
  },
  {
   "cell_type": "code",
   "execution_count": null,
   "metadata": {},
   "outputs": [],
   "source": []
  },
  {
   "cell_type": "code",
   "execution_count": null,
   "metadata": {},
   "outputs": [],
   "source": []
  },
  {
   "cell_type": "code",
   "execution_count": null,
   "metadata": {},
   "outputs": [],
   "source": []
  },
  {
   "cell_type": "code",
   "execution_count": null,
   "metadata": {},
   "outputs": [],
   "source": []
  }
 ],
 "metadata": {
  "kernelspec": {
   "display_name": "Python 3",
   "language": "python",
   "name": "python3"
  },
  "language_info": {
   "codemirror_mode": {
    "name": "ipython",
    "version": 3
   },
   "file_extension": ".py",
   "mimetype": "text/x-python",
   "name": "python",
   "nbconvert_exporter": "python",
   "pygments_lexer": "ipython3",
   "version": "3.7.2"
  }
 },
 "nbformat": 4,
 "nbformat_minor": 2
}
