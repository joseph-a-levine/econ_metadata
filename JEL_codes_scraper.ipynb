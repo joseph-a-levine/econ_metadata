{
 "cells": [
  {
   "cell_type": "code",
   "execution_count": 1,
   "metadata": {},
   "outputs": [],
   "source": [
    "''' \n",
    "---------------------------------------\n",
    "# Using the American Economic Association's EconLit database (provided through EBSCOHost),\n",
    "# this script scrapes metadata on all economics journal articles back to a given year.\n",
    "# I have two plans for this data\n",
    "# 1) \n",
    "---------------------------------------\n",
    "'''"
   ]
  },
  {
   "cell_type": "code",
   "execution_count": 1,
   "metadata": {},
   "outputs": [],
   "source": [
    "# Here's what I'm going to need:\n",
    "\n",
    "import time\n",
    "import sqlite3\n",
    "import pandas as pd\n",
    "from sqlite3 import Error\n",
    "from selenium import webdriver\n",
    "from selenium.common.exceptions import NoSuchElementException\n",
    "from bs4 import BeautifulSoup\n",
    "import re\n",
    "\n",
    "import concurrent.futures\n",
    "\n",
    "\n"
   ]
  },
  {
   "cell_type": "code",
   "execution_count": null,
   "metadata": {},
   "outputs": [],
   "source": []
  },
  {
   "cell_type": "code",
   "execution_count": null,
   "metadata": {},
   "outputs": [],
   "source": []
  },
  {
   "cell_type": "code",
   "execution_count": 2,
   "metadata": {},
   "outputs": [
    {
     "name": "stderr",
     "output_type": "stream",
     "text": [
      "C:\\Users\\240-370-8956\\AppData\\Roaming\\Python\\Python37\\site-packages\\selenium\\webdriver\\phantomjs\\webdriver.py:49: UserWarning: Selenium support for PhantomJS has been deprecated, please use headless versions of Chrome or Firefox instead\n",
      "  warnings.warn('Selenium support for PhantomJS has been deprecated, please use headless '\n"
     ]
    },
    {
     "data": {
      "text/plain": [
       "'UMD REQUIRES DUAL AUTHENTICATION AT THIS POINT; NO WAY AROUND THAT. ONLY HAS TO BE DONE ONCE'"
      ]
     },
     "execution_count": 2,
     "metadata": {},
     "output_type": "execute_result"
    }
   ],
   "source": [
    "'''Initialize the browser and open the first page'''\n",
    "\n",
    "\n",
    "sr_browser = webdriver.PhantomJS(executable_path = \"C:/Users/240-370-8956/Desktop/STK/phantomjs-2.1.1-windows/phantomjs-2.1.1-windows/bin/phantomjs.exe\")\n",
    "sr_browser.set_window_size(1920, 1080)\n",
    "\n",
    "'''\n",
    "---------------------------------------\n",
    "# This next line uses a test search of all journal articles from 2019-01-01 to 2019-12-31\n",
    "# On EconLit, design your search (you can use SQL or their interface), and run it \n",
    "# Then, on the share tab, get a shareable link and start there\n",
    "# I can't use the URL of the search because UMD requires dual authentication.\n",
    "# If your university doesn't, you can go with the URL of the search\n",
    "---------------------------------------\n",
    "'''\n",
    "\n",
    "sr_browser.get(\"http://search.ebscohost.com.proxy-um.researchport.umd.edu/login.aspx?direct=true&db=ecn&bquery=&cli0=DT1&clv0=201901-201901&cli1=PT50&clv1=Journal+Article&type=1&searchMode=And&site=ehost-live\")\n",
    "\n",
    "username = sr_browser.find_element_by_id(\"username\")\n",
    "password = sr_browser.find_element_by_id(\"password\")\n",
    "\n",
    "\n",
    "'''Have to remember to redact these before I post on GitHub'''\n",
    "username.send_keys(\"jablevin\")\n",
    "password.send_keys(\"MehUMjkd.2\")\n",
    "\n",
    "sr_browser.find_element_by_name(\"_eventId_proceed\").click()\n",
    "\n",
    "\n",
    "\n",
    "\n",
    "\n",
    "'''UMD REQUIRES DUAL AUTHENTICATION AT THIS POINT; NO WAY AROUND THAT. ONLY HAS TO BE DONE ONCE'''\n"
   ]
  },
  {
   "cell_type": "code",
   "execution_count": null,
   "metadata": {},
   "outputs": [],
   "source": []
  },
  {
   "cell_type": "code",
   "execution_count": 3,
   "metadata": {},
   "outputs": [],
   "source": [
    "'''Finds and selects the first result from the targeted search'''\n",
    "\n",
    "sr_browser.find_element_by_name(\"Result_1\").click()\n",
    "\n",
    "# Test 1\n",
    "#soup1 = BeautifulSoup(sr_browser.page_source)\n",
    "\n",
    "#print(soup3)"
   ]
  },
  {
   "cell_type": "code",
   "execution_count": 4,
   "metadata": {},
   "outputs": [],
   "source": [
    "# This is going to find and click the \"Next Page\" button\n",
    "\n",
    "def load_next_page():\n",
    "\n",
    "    try:\n",
    "        next_btn = sr_browser.find_element_by_id(\n",
    "            'ctl00_ctl00_MainContentArea_MainContentArea_bottomNavControl_btnNext'\n",
    "            )\n",
    "                \n",
    "        next_btn.click()\n",
    "        \n",
    "\n",
    "        \n",
    "    except NoSuchElementException:\n",
    "        if sr_browser.current_url == 'about:blank':\n",
    "            print('Please check your internet connection.')\n",
    "        else:\n",
    "            sr_browser.save_screenshot('error.png')\n",
    "            print('The page is not as expected, screenshot saved.')\n",
    "            print('url: {}'.format(sr_browser.current_url))\n",
    "        raise"
   ]
  },
  {
   "cell_type": "code",
   "execution_count": 5,
   "metadata": {},
   "outputs": [],
   "source": [
    "# create empty dataframe to store the article metadata in\n",
    "\n",
    "articles = pd.DataFrame()"
   ]
  },
  {
   "cell_type": "code",
   "execution_count": 6,
   "metadata": {},
   "outputs": [
    {
     "name": "stdout",
     "output_type": "stream",
     "text": [
      "The page is not as expected, screenshot saved.\n",
      "url: http://web.a.ebscohost.com.proxy-um.researchport.umd.edu/ehost/detail/detail?vid=51&sid=af275b2b-17a9-423d-8658-6c2e62d4979c%40sdc-v-sessmgr01&bdata=JnNpdGU9ZWhvc3QtbGl2ZQ%3D%3D\n"
     ]
    },
    {
     "ename": "NoSuchElementException",
     "evalue": "Message: {\"errorMessage\":\"Unable to find element with id 'ctl00_ctl00_MainContentArea_MainContentArea_bottomNavControl_btnNext'\",\"request\":{\"headers\":{\"Accept\":\"application/json\",\"Accept-Encoding\":\"identity\",\"Content-Length\":\"149\",\"Content-Type\":\"application/json;charset=UTF-8\",\"Host\":\"127.0.0.1:56998\",\"User-Agent\":\"selenium/3.141.0 (python windows)\"},\"httpVersion\":\"1.1\",\"method\":\"POST\",\"post\":\"{\\\"using\\\": \\\"id\\\", \\\"value\\\": \\\"ctl00_ctl00_MainContentArea_MainContentArea_bottomNavControl_btnNext\\\", \\\"sessionId\\\": \\\"81e54f00-2b7c-11eb-8b5d-55d06dfa7294\\\"}\",\"url\":\"/element\",\"urlParsed\":{\"anchor\":\"\",\"query\":\"\",\"file\":\"element\",\"directory\":\"/\",\"path\":\"/element\",\"relative\":\"/element\",\"port\":\"\",\"host\":\"\",\"password\":\"\",\"user\":\"\",\"userInfo\":\"\",\"authority\":\"\",\"protocol\":\"\",\"source\":\"/element\",\"queryKey\":{},\"chunks\":[\"element\"]},\"urlOriginal\":\"/session/81e54f00-2b7c-11eb-8b5d-55d06dfa7294/element\"}}\nScreenshot: available via screen\n",
     "output_type": "error",
     "traceback": [
      "\u001b[1;31m---------------------------------------------------------------------------\u001b[0m",
      "\u001b[1;31mNoSuchElementException\u001b[0m                    Traceback (most recent call last)",
      "\u001b[1;32m<ipython-input-6-6ce0ba357f2d>\u001b[0m in \u001b[0;36m<module>\u001b[1;34m\u001b[0m\n\u001b[0;32m     60\u001b[0m \u001b[1;33m\u001b[0m\u001b[0m\n\u001b[0;32m     61\u001b[0m     \u001b[1;31m# Go to the next page\u001b[0m\u001b[1;33m\u001b[0m\u001b[1;33m\u001b[0m\u001b[1;33m\u001b[0m\u001b[0m\n\u001b[1;32m---> 62\u001b[1;33m     \u001b[0mload_next_page\u001b[0m\u001b[1;33m(\u001b[0m\u001b[1;33m)\u001b[0m\u001b[1;33m\u001b[0m\u001b[1;33m\u001b[0m\u001b[0m\n\u001b[0m\u001b[0;32m     63\u001b[0m \u001b[1;33m\u001b[0m\u001b[0m\n\u001b[0;32m     64\u001b[0m \u001b[1;33m\u001b[0m\u001b[0m\n",
      "\u001b[1;32m<ipython-input-4-a04702748edd>\u001b[0m in \u001b[0;36mload_next_page\u001b[1;34m()\u001b[0m\n\u001b[0;32m      5\u001b[0m     \u001b[1;32mtry\u001b[0m\u001b[1;33m:\u001b[0m\u001b[1;33m\u001b[0m\u001b[1;33m\u001b[0m\u001b[0m\n\u001b[0;32m      6\u001b[0m         next_btn = sr_browser.find_element_by_id(\n\u001b[1;32m----> 7\u001b[1;33m             \u001b[1;34m'ctl00_ctl00_MainContentArea_MainContentArea_bottomNavControl_btnNext'\u001b[0m\u001b[1;33m\u001b[0m\u001b[1;33m\u001b[0m\u001b[0m\n\u001b[0m\u001b[0;32m      8\u001b[0m             )\n\u001b[0;32m      9\u001b[0m \u001b[1;33m\u001b[0m\u001b[0m\n",
      "\u001b[1;32m~\\AppData\\Roaming\\Python\\Python37\\site-packages\\selenium\\webdriver\\remote\\webdriver.py\u001b[0m in \u001b[0;36mfind_element_by_id\u001b[1;34m(self, id_)\u001b[0m\n\u001b[0;32m    358\u001b[0m             \u001b[0melement\u001b[0m \u001b[1;33m=\u001b[0m \u001b[0mdriver\u001b[0m\u001b[1;33m.\u001b[0m\u001b[0mfind_element_by_id\u001b[0m\u001b[1;33m(\u001b[0m\u001b[1;34m'foo'\u001b[0m\u001b[1;33m)\u001b[0m\u001b[1;33m\u001b[0m\u001b[1;33m\u001b[0m\u001b[0m\n\u001b[0;32m    359\u001b[0m         \"\"\"\n\u001b[1;32m--> 360\u001b[1;33m         \u001b[1;32mreturn\u001b[0m \u001b[0mself\u001b[0m\u001b[1;33m.\u001b[0m\u001b[0mfind_element\u001b[0m\u001b[1;33m(\u001b[0m\u001b[0mby\u001b[0m\u001b[1;33m=\u001b[0m\u001b[0mBy\u001b[0m\u001b[1;33m.\u001b[0m\u001b[0mID\u001b[0m\u001b[1;33m,\u001b[0m \u001b[0mvalue\u001b[0m\u001b[1;33m=\u001b[0m\u001b[0mid_\u001b[0m\u001b[1;33m)\u001b[0m\u001b[1;33m\u001b[0m\u001b[1;33m\u001b[0m\u001b[0m\n\u001b[0m\u001b[0;32m    361\u001b[0m \u001b[1;33m\u001b[0m\u001b[0m\n\u001b[0;32m    362\u001b[0m     \u001b[1;32mdef\u001b[0m \u001b[0mfind_elements_by_id\u001b[0m\u001b[1;33m(\u001b[0m\u001b[0mself\u001b[0m\u001b[1;33m,\u001b[0m \u001b[0mid_\u001b[0m\u001b[1;33m)\u001b[0m\u001b[1;33m:\u001b[0m\u001b[1;33m\u001b[0m\u001b[1;33m\u001b[0m\u001b[0m\n",
      "\u001b[1;32m~\\AppData\\Roaming\\Python\\Python37\\site-packages\\selenium\\webdriver\\remote\\webdriver.py\u001b[0m in \u001b[0;36mfind_element\u001b[1;34m(self, by, value)\u001b[0m\n\u001b[0;32m    976\u001b[0m         return self.execute(Command.FIND_ELEMENT, {\n\u001b[0;32m    977\u001b[0m             \u001b[1;34m'using'\u001b[0m\u001b[1;33m:\u001b[0m \u001b[0mby\u001b[0m\u001b[1;33m,\u001b[0m\u001b[1;33m\u001b[0m\u001b[1;33m\u001b[0m\u001b[0m\n\u001b[1;32m--> 978\u001b[1;33m             'value': value})['value']\n\u001b[0m\u001b[0;32m    979\u001b[0m \u001b[1;33m\u001b[0m\u001b[0m\n\u001b[0;32m    980\u001b[0m     \u001b[1;32mdef\u001b[0m \u001b[0mfind_elements\u001b[0m\u001b[1;33m(\u001b[0m\u001b[0mself\u001b[0m\u001b[1;33m,\u001b[0m \u001b[0mby\u001b[0m\u001b[1;33m=\u001b[0m\u001b[0mBy\u001b[0m\u001b[1;33m.\u001b[0m\u001b[0mID\u001b[0m\u001b[1;33m,\u001b[0m \u001b[0mvalue\u001b[0m\u001b[1;33m=\u001b[0m\u001b[1;32mNone\u001b[0m\u001b[1;33m)\u001b[0m\u001b[1;33m:\u001b[0m\u001b[1;33m\u001b[0m\u001b[1;33m\u001b[0m\u001b[0m\n",
      "\u001b[1;32m~\\AppData\\Roaming\\Python\\Python37\\site-packages\\selenium\\webdriver\\remote\\webdriver.py\u001b[0m in \u001b[0;36mexecute\u001b[1;34m(self, driver_command, params)\u001b[0m\n\u001b[0;32m    319\u001b[0m         \u001b[0mresponse\u001b[0m \u001b[1;33m=\u001b[0m \u001b[0mself\u001b[0m\u001b[1;33m.\u001b[0m\u001b[0mcommand_executor\u001b[0m\u001b[1;33m.\u001b[0m\u001b[0mexecute\u001b[0m\u001b[1;33m(\u001b[0m\u001b[0mdriver_command\u001b[0m\u001b[1;33m,\u001b[0m \u001b[0mparams\u001b[0m\u001b[1;33m)\u001b[0m\u001b[1;33m\u001b[0m\u001b[1;33m\u001b[0m\u001b[0m\n\u001b[0;32m    320\u001b[0m         \u001b[1;32mif\u001b[0m \u001b[0mresponse\u001b[0m\u001b[1;33m:\u001b[0m\u001b[1;33m\u001b[0m\u001b[1;33m\u001b[0m\u001b[0m\n\u001b[1;32m--> 321\u001b[1;33m             \u001b[0mself\u001b[0m\u001b[1;33m.\u001b[0m\u001b[0merror_handler\u001b[0m\u001b[1;33m.\u001b[0m\u001b[0mcheck_response\u001b[0m\u001b[1;33m(\u001b[0m\u001b[0mresponse\u001b[0m\u001b[1;33m)\u001b[0m\u001b[1;33m\u001b[0m\u001b[1;33m\u001b[0m\u001b[0m\n\u001b[0m\u001b[0;32m    322\u001b[0m             response['value'] = self._unwrap_value(\n\u001b[0;32m    323\u001b[0m                 response.get('value', None))\n",
      "\u001b[1;32m~\\AppData\\Roaming\\Python\\Python37\\site-packages\\selenium\\webdriver\\remote\\errorhandler.py\u001b[0m in \u001b[0;36mcheck_response\u001b[1;34m(self, response)\u001b[0m\n\u001b[0;32m    240\u001b[0m                 \u001b[0malert_text\u001b[0m \u001b[1;33m=\u001b[0m \u001b[0mvalue\u001b[0m\u001b[1;33m[\u001b[0m\u001b[1;34m'alert'\u001b[0m\u001b[1;33m]\u001b[0m\u001b[1;33m.\u001b[0m\u001b[0mget\u001b[0m\u001b[1;33m(\u001b[0m\u001b[1;34m'text'\u001b[0m\u001b[1;33m)\u001b[0m\u001b[1;33m\u001b[0m\u001b[1;33m\u001b[0m\u001b[0m\n\u001b[0;32m    241\u001b[0m             \u001b[1;32mraise\u001b[0m \u001b[0mexception_class\u001b[0m\u001b[1;33m(\u001b[0m\u001b[0mmessage\u001b[0m\u001b[1;33m,\u001b[0m \u001b[0mscreen\u001b[0m\u001b[1;33m,\u001b[0m \u001b[0mstacktrace\u001b[0m\u001b[1;33m,\u001b[0m \u001b[0malert_text\u001b[0m\u001b[1;33m)\u001b[0m\u001b[1;33m\u001b[0m\u001b[1;33m\u001b[0m\u001b[0m\n\u001b[1;32m--> 242\u001b[1;33m         \u001b[1;32mraise\u001b[0m \u001b[0mexception_class\u001b[0m\u001b[1;33m(\u001b[0m\u001b[0mmessage\u001b[0m\u001b[1;33m,\u001b[0m \u001b[0mscreen\u001b[0m\u001b[1;33m,\u001b[0m \u001b[0mstacktrace\u001b[0m\u001b[1;33m)\u001b[0m\u001b[1;33m\u001b[0m\u001b[1;33m\u001b[0m\u001b[0m\n\u001b[0m\u001b[0;32m    243\u001b[0m \u001b[1;33m\u001b[0m\u001b[0m\n\u001b[0;32m    244\u001b[0m     \u001b[1;32mdef\u001b[0m \u001b[0m_value_or_default\u001b[0m\u001b[1;33m(\u001b[0m\u001b[0mself\u001b[0m\u001b[1;33m,\u001b[0m \u001b[0mobj\u001b[0m\u001b[1;33m,\u001b[0m \u001b[0mkey\u001b[0m\u001b[1;33m,\u001b[0m \u001b[0mdefault\u001b[0m\u001b[1;33m)\u001b[0m\u001b[1;33m:\u001b[0m\u001b[1;33m\u001b[0m\u001b[1;33m\u001b[0m\u001b[0m\n",
      "\u001b[1;31mNoSuchElementException\u001b[0m: Message: {\"errorMessage\":\"Unable to find element with id 'ctl00_ctl00_MainContentArea_MainContentArea_bottomNavControl_btnNext'\",\"request\":{\"headers\":{\"Accept\":\"application/json\",\"Accept-Encoding\":\"identity\",\"Content-Length\":\"149\",\"Content-Type\":\"application/json;charset=UTF-8\",\"Host\":\"127.0.0.1:56998\",\"User-Agent\":\"selenium/3.141.0 (python windows)\"},\"httpVersion\":\"1.1\",\"method\":\"POST\",\"post\":\"{\\\"using\\\": \\\"id\\\", \\\"value\\\": \\\"ctl00_ctl00_MainContentArea_MainContentArea_bottomNavControl_btnNext\\\", \\\"sessionId\\\": \\\"81e54f00-2b7c-11eb-8b5d-55d06dfa7294\\\"}\",\"url\":\"/element\",\"urlParsed\":{\"anchor\":\"\",\"query\":\"\",\"file\":\"element\",\"directory\":\"/\",\"path\":\"/element\",\"relative\":\"/element\",\"port\":\"\",\"host\":\"\",\"password\":\"\",\"user\":\"\",\"userInfo\":\"\",\"authority\":\"\",\"protocol\":\"\",\"source\":\"/element\",\"queryKey\":{},\"chunks\":[\"element\"]},\"urlOriginal\":\"/session/81e54f00-2b7c-11eb-8b5d-55d06dfa7294/element\"}}\nScreenshot: available via screen\n"
     ]
    }
   ],
   "source": [
    "# ---------------------------------------\n",
    "# The following while loop parses the articles page using BeautifulSoup, gets what I need, and puts in in a dataframe\n",
    "# This runs at about 3 seconds per page, and because there are 30-50k articles per year, that's not really sustainable\n",
    "# Most of the slowdown is the load_next_page function, I suspect because my wifi sucks and because PhantomJS isn't meant for this\n",
    "# Still, at one second per page (optimistic), this will take 11 hours per year. So don't start this unless you got time\n",
    "# ---------------------------------------\n",
    "\n",
    "n = 100\n",
    "\n",
    "\n",
    "while n > 0: \n",
    "    # within an EBSCOHost page, pulls HTML page source using BeautifulSoup \n",
    "    soup = BeautifulSoup(sr_browser.page_source)\n",
    "\n",
    "    dt_tags = soup.find_all('dt', attrs = {'data-auto': 'citation_field_label'})\n",
    "    field_names = [tag.string[:-1] for tag in dt_tags]\n",
    "\n",
    "    dd_tags = soup.find_all('dd', attrs = {'data-auto': 'citation_field_value'})\n",
    "    field_values = [tag.text for tag in dd_tags]\n",
    "\n",
    "    pagedict = dict(zip(field_names, field_values))\n",
    "\n",
    "    \n",
    "    \n",
    "    # ---------------------------------------\n",
    "    # These are the fields I need:\n",
    "    # Accession number is a unique EconLit identifier\n",
    "    # Author is a field with a list of authors separated by semicolons\n",
    "    # Author Affiliation is the affiliation of the above authors, respectively; also semicolon separated\n",
    "    # Descriptors is the JEL codes associated with the paper, semicolon seperated\n",
    "    # Keywords are decided by the authors; also semicolon separated\n",
    "    # ---------------------------------------\n",
    "    needed_fields = ['Accession Number', 'Author', 'Author Affiliation', 'Source', 'Title', 'Descriptors', 'Keywords']\n",
    "    for field in needed_fields:\n",
    "        if field not in pagedict.keys():\n",
    "            pagedict[field] = ''\n",
    "\n",
    "    # Recognizes the relevant characters in the source code to grab them\n",
    "    re_pattern = r'\\([A-Z]\\d\\d\\)'\n",
    "    descriptors_list = [item[1:-1] for item in re.findall(re_pattern, pagedict['Descriptors'])]\n",
    "    descriptors = '; '.join(descriptors_list)\n",
    "    keywords = ' '.join(pagedict['Keywords'].split())\n",
    "\n",
    "    finaldict = {'an': pagedict['Accession Number'],\n",
    "                 'author': pagedict['Author'],\n",
    "                 'aff': pagedict['Author Affiliation'],\n",
    "                 'source': pagedict['Source'],\n",
    "                 'title': pagedict['Title'],\n",
    "                 'jel': descriptors,\n",
    "                 'keywords': keywords\n",
    "                 }\n",
    "\n",
    "    #print(finaldict)\n",
    "    \n",
    "    #add finaldict to dataframe \n",
    "    articles = articles.append(pd.DataFrame(finaldict, index = [0]), ignore_index = True)\n",
    "    \n",
    "    curr_url = sr_browser.current_url\n",
    "\n",
    "\n",
    "    # Go to the next page \n",
    "    load_next_page()\n",
    "    \n",
    "    \n",
    "    n -= 1"
   ]
  },
  {
   "cell_type": "code",
   "execution_count": null,
   "metadata": {},
   "outputs": [],
   "source": []
  },
  {
   "cell_type": "code",
   "execution_count": null,
   "metadata": {},
   "outputs": [],
   "source": []
  },
  {
   "cell_type": "code",
   "execution_count": 7,
   "metadata": {},
   "outputs": [
    {
     "data": {
      "text/html": [
       "<div>\n",
       "<style scoped>\n",
       "    .dataframe tbody tr th:only-of-type {\n",
       "        vertical-align: middle;\n",
       "    }\n",
       "\n",
       "    .dataframe tbody tr th {\n",
       "        vertical-align: top;\n",
       "    }\n",
       "\n",
       "    .dataframe thead th {\n",
       "        text-align: right;\n",
       "    }\n",
       "</style>\n",
       "<table border=\"1\" class=\"dataframe\">\n",
       "  <thead>\n",
       "    <tr style=\"text-align: right;\">\n",
       "      <th></th>\n",
       "      <th>an</th>\n",
       "      <th>author</th>\n",
       "      <th>aff</th>\n",
       "      <th>source</th>\n",
       "      <th>title</th>\n",
       "      <th>jel</th>\n",
       "      <th>keywords</th>\n",
       "    </tr>\n",
       "  </thead>\n",
       "  <tbody>\n",
       "    <tr>\n",
       "      <th>46</th>\n",
       "      <td>1855796</td>\n",
       "      <td>Emmanouilidis, Kyriakos; Karpetis, Christos</td>\n",
       "      <td>U of Macedonia; U of Macedonia</td>\n",
       "      <td>Review of Economic Analysis, 2019, v. 11, iss....</td>\n",
       "      <td>Does Entry Business Regulation Deter FDI? Evid...</td>\n",
       "      <td>D02; F21; L51</td>\n",
       "      <td>FDI; Foreign Direct Investment; Regulation</td>\n",
       "    </tr>\n",
       "    <tr>\n",
       "      <th>47</th>\n",
       "      <td>1855795</td>\n",
       "      <td>Davies, Roland B.; Mazhikeyev, Arman</td>\n",
       "      <td>U College Dublin; U of Lincoln</td>\n",
       "      <td>Review of Economic Analysis, 2019, v. 11, iss....</td>\n",
       "      <td>The Impact of Special Economic Zones on Export...</td>\n",
       "      <td>F14; O18; O19; R32</td>\n",
       "      <td>Exports; Import</td>\n",
       "    </tr>\n",
       "    <tr>\n",
       "      <th>48</th>\n",
       "      <td>1855794</td>\n",
       "      <td>Kalaitzoglou, Iordanis</td>\n",
       "      <td>Audencia Business School</td>\n",
       "      <td>Review of Economic Analysis, 2019, v. 11, iss....</td>\n",
       "      <td>Visible and Invisible Forces: What Drives the ...</td>\n",
       "      <td>Q54; Q58</td>\n",
       "      <td>Climate</td>\n",
       "    </tr>\n",
       "    <tr>\n",
       "      <th>49</th>\n",
       "      <td>1855793</td>\n",
       "      <td>Sidorkin, Oleg</td>\n",
       "      <td>Leibniz-Institute for East and Southeast Europ...</td>\n",
       "      <td>Review of Economic Analysis, 2019, v. 11, iss....</td>\n",
       "      <td>Management Quality and Innovation in Emerging ...</td>\n",
       "      <td>M10; O14; O31</td>\n",
       "      <td>Firm; Firms; Innovation; Management</td>\n",
       "    </tr>\n",
       "    <tr>\n",
       "      <th>50</th>\n",
       "      <td></td>\n",
       "      <td></td>\n",
       "      <td></td>\n",
       "      <td></td>\n",
       "      <td></td>\n",
       "      <td></td>\n",
       "      <td></td>\n",
       "    </tr>\n",
       "  </tbody>\n",
       "</table>\n",
       "</div>"
      ],
      "text/plain": [
       "         an                                       author  \\\n",
       "46  1855796  Emmanouilidis, Kyriakos; Karpetis, Christos   \n",
       "47  1855795         Davies, Roland B.; Mazhikeyev, Arman   \n",
       "48  1855794                       Kalaitzoglou, Iordanis   \n",
       "49  1855793                               Sidorkin, Oleg   \n",
       "50                                                         \n",
       "\n",
       "                                                  aff  \\\n",
       "46                     U of Macedonia; U of Macedonia   \n",
       "47                     U College Dublin; U of Lincoln   \n",
       "48                           Audencia Business School   \n",
       "49  Leibniz-Institute for East and Southeast Europ...   \n",
       "50                                                      \n",
       "\n",
       "                                               source  \\\n",
       "46  Review of Economic Analysis, 2019, v. 11, iss....   \n",
       "47  Review of Economic Analysis, 2019, v. 11, iss....   \n",
       "48  Review of Economic Analysis, 2019, v. 11, iss....   \n",
       "49  Review of Economic Analysis, 2019, v. 11, iss....   \n",
       "50                                                      \n",
       "\n",
       "                                                title                 jel  \\\n",
       "46  Does Entry Business Regulation Deter FDI? Evid...       D02; F21; L51   \n",
       "47  The Impact of Special Economic Zones on Export...  F14; O18; O19; R32   \n",
       "48  Visible and Invisible Forces: What Drives the ...            Q54; Q58   \n",
       "49  Management Quality and Innovation in Emerging ...       M10; O14; O31   \n",
       "50                                                                          \n",
       "\n",
       "                                      keywords  \n",
       "46  FDI; Foreign Direct Investment; Regulation  \n",
       "47                             Exports; Import  \n",
       "48                                     Climate  \n",
       "49         Firm; Firms; Innovation; Management  \n",
       "50                                              "
      ]
     },
     "execution_count": 7,
     "metadata": {},
     "output_type": "execute_result"
    }
   ],
   "source": [
    "articles.tail()"
   ]
  },
  {
   "cell_type": "code",
   "execution_count": 23,
   "metadata": {},
   "outputs": [],
   "source": [
    "# Exports the dataframe to CSV for analysis in Stata\n",
    "\n",
    "articles.to_csv(r'C:\\Users\\240-370-8956\\Dropbox\\Research\\JEL_codes\\Data\\articles.csv', index = False)\n"
   ]
  },
  {
   "cell_type": "code",
   "execution_count": null,
   "metadata": {},
   "outputs": [],
   "source": []
  }
 ],
 "metadata": {
  "kernelspec": {
   "display_name": "Python 3",
   "language": "python",
   "name": "python3"
  },
  "language_info": {
   "codemirror_mode": {
    "name": "ipython",
    "version": 3
   },
   "file_extension": ".py",
   "mimetype": "text/x-python",
   "name": "python",
   "nbconvert_exporter": "python",
   "pygments_lexer": "ipython3",
   "version": "3.7.2"
  }
 },
 "nbformat": 4,
 "nbformat_minor": 2
}
