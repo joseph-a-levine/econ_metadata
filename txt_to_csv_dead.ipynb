{
 "cells": [
  {
   "cell_type": "code",
   "execution_count": 1,
   "metadata": {},
   "outputs": [],
   "source": [
    "# Here's what I'm going to need:\n",
    "\n",
    "import time, glob\n",
    "import os\n",
    "import shutil\n",
    "from io import StringIO\n",
    "import pandas as pd\n",
    "from selenium import webdriver\n",
    "from selenium.common.exceptions import NoSuchElementException\n",
    "from bs4 import BeautifulSoup\n",
    "import re\n",
    "\n",
    "import concurrent.futures\n",
    "\n"
   ]
  },
  {
   "cell_type": "code",
   "execution_count": 2,
   "metadata": {},
   "outputs": [],
   "source": [
    "os.path = 'C:/Users/240-370-8956/Dropbox/Research/JEL_codes/Data/econlit_txt/econlit_files'"
   ]
  },
  {
   "cell_type": "code",
   "execution_count": 3,
   "metadata": {},
   "outputs": [],
   "source": [
    "outfilepath = 'C:/Users/240-370-8956/Dropbox/Research/JEL_codes/Data/econlit_txt/'\n",
    "outfilename = outfilepath + 'all_files' + \".txt\"\n",
    "\n",
    "years = {}\n",
    "\n"
   ]
  },
  {
   "cell_type": "code",
   "execution_count": 4,
   "metadata": {},
   "outputs": [
    {
     "name": "stderr",
     "output_type": "stream",
     "text": [
      "b'Skipping line 14663: expected 10 fields, saw 11\\nSkipping line 24014: expected 10 fields, saw 11\\nSkipping line 26959: expected 10 fields, saw 12\\n'\n",
      "b'Skipping line 12774: expected 10 fields, saw 11\\n'\n",
      "b'Skipping line 15641: expected 10 fields, saw 12\\nSkipping line 18880: expected 10 fields, saw 11\\nSkipping line 26609: expected 10 fields, saw 11\\nSkipping line 44763: expected 10 fields, saw 11\\nSkipping line 46843: expected 10 fields, saw 11\\n'\n",
      "b'Skipping line 38914: expected 10 fields, saw 11\\n'\n",
      "b'Skipping line 13946: expected 10 fields, saw 11\\nSkipping line 43601: expected 10 fields, saw 11\\n'\n",
      "b'Skipping line 21902: expected 10 fields, saw 11\\n'\n",
      "b'Skipping line 6269: expected 10 fields, saw 11\\nSkipping line 23792: expected 10 fields, saw 11\\n'\n"
     ]
    }
   ],
   "source": [
    "for i in range(0,10):\n",
    "    i = str(i).zfill(1)\n",
    "    filenames = os.listdir('C:/Users/240-370-8956/Dropbox/Research/JEL_codes/Data/econlit_txt/txt_files201'+i)\n",
    "    \n",
    "    \n",
    "    \n",
    "    path_txt = 'C:/Users/240-370-8956/Dropbox/Research/JEL_codes/Data/econlit_txt/txt_files201'+i\n",
    "    col_list = [ 'AU', 'AF', 'SO', 'DT', 'DE', 'PT', 'IS', 'UD', 'AN','\\n']\n",
    "    \n",
    "    with open(outfilename, 'wt') as outfile:\n",
    "        for fname in filenames:\n",
    "            with open(path_txt+'/'+fname, 'rt') as readfile:\n",
    "                infile = readfile.readlines()\n",
    "                for line in infile:\n",
    "                    if line[:2] in col_list: outfile.write(line[4:])\n",
    "                    elif line[:2] == 'TI': outfile.write('\\n'+line[4:])\n",
    "                outfile.write(\"\\n\\n\")\n",
    "    with open(outfilename, 'r') as f:\n",
    "        data = f.read().replace('\\n','@').replace('@@','\\n')\n",
    "    \n",
    "    \n",
    "    data = data[1:]\n",
    "    \n",
    "    \n",
    "    year_set = pd.read_csv(pd.compat.StringIO(data), header=None, sep = '@', low_memory=True, error_bad_lines=False)\n",
    "    \n",
    "    years['set_'+i] = year_set\n"
   ]
  },
  {
   "cell_type": "code",
   "execution_count": 6,
   "metadata": {},
   "outputs": [],
   "source": [
    "#years['set_9'].head()"
   ]
  },
  {
   "cell_type": "code",
   "execution_count": 7,
   "metadata": {},
   "outputs": [],
   "source": [
    "#yuck\n",
    "#but it works\n",
    "\n",
    "\n",
    "all_papers = pd.concat([years['set_0'],years['set_1'],years['set_2'],years['set_3'],years['set_4']], ignore_index=True).dropna()\n",
    "\n",
    "\n"
   ]
  },
  {
   "cell_type": "code",
   "execution_count": 8,
   "metadata": {},
   "outputs": [],
   "source": [
    "#all_papers.tail()"
   ]
  },
  {
   "cell_type": "code",
   "execution_count": null,
   "metadata": {},
   "outputs": [],
   "source": [
    "all_papers.to_csv('C:/Users/240-370-8956/Dropbox/Research/JEL_codes/Data/2010s_articles.csv', chunksize=1000)"
   ]
  },
  {
   "cell_type": "code",
   "execution_count": null,
   "metadata": {},
   "outputs": [],
   "source": [
    "years['set_9'].to_csv('C:/Users/240-370-8956/Dropbox/Research/JEL_codes/Data/2019_articles.csv', chunksize=50)"
   ]
  },
  {
   "cell_type": "code",
   "execution_count": null,
   "metadata": {},
   "outputs": [],
   "source": []
  },
  {
   "cell_type": "code",
   "execution_count": null,
   "metadata": {},
   "outputs": [],
   "source": []
  },
  {
   "cell_type": "code",
   "execution_count": null,
   "metadata": {},
   "outputs": [],
   "source": []
  },
  {
   "cell_type": "code",
   "execution_count": null,
   "metadata": {},
   "outputs": [],
   "source": []
  },
  {
   "cell_type": "code",
   "execution_count": null,
   "metadata": {},
   "outputs": [],
   "source": [
    "outfile.head()"
   ]
  },
  {
   "cell_type": "code",
   "execution_count": null,
   "metadata": {},
   "outputs": [],
   "source": [
    "data.head()"
   ]
  },
  {
   "cell_type": "code",
   "execution_count": null,
   "metadata": {},
   "outputs": [],
   "source": [
    "\n",
    "filenames = os.listdir('C:/Users/240-370-8956/Dropbox/Research/JEL_codes/Data/econlit_txt/blah1')\n",
    "\n",
    "\n",
    "path_txt = 'C:/Users/240-370-8956/Dropbox/Research/JEL_codes/Data/econlit_txt/blah1'\n",
    "col_list = [ 'AU', 'AF', 'SO', 'DT', 'DE', 'PT', 'IS', 'UD', 'AN','\\n']\n",
    "\n",
    "\n",
    "with open(outfilename, 'wt') as outfile:\n",
    "    for fname in filenames:\n",
    "        with open(path_txt+'/'+fname, 'rt') as readfile:\n",
    "            infile = readfile.readlines()\n",
    "            print(infile[:10])\n",
    "            for line in infile:\n",
    "                if line[:2] in col_list: outfile.write(line[4:])\n",
    "                elif line[:2] == 'TI': outfile.write('\\n'+line[4:])\n",
    "            outfile.write(\"\\n\\n\")\n",
    "            \n",
    "            \n",
    "with open(outfilename, 'r') as f:\n",
    "    data = f.read().replace('\\n','@').replace('@@','\\n')\n",
    "    \n",
    "data = data[2:]\n",
    "\n",
    "\n",
    "    \n",
    "set1 = pd.read_csv(pd.compat.StringIO(data), header=None, sep = '@', low_memory=True, error_bad_lines=False)"
   ]
  },
  {
   "cell_type": "code",
   "execution_count": 4,
   "metadata": {},
   "outputs": [],
   "source": [
    "\n",
    "filenames = os.listdir('C:/Users/240-370-8956/Dropbox/Research/JEL_codes/Data/econlit_txt/blah2')\n",
    "\n",
    "\n",
    "path_txt = 'C:/Users/240-370-8956/Dropbox/Research/JEL_codes/Data/econlit_txt/blah2'\n",
    "col_list = [ 'AU', 'AF', 'SO', 'DT', 'DE', 'PT', 'IS', 'UD', 'AN','\\n']\n",
    "\n",
    "\n",
    "with open(outfilename, 'wt') as outfile:\n",
    "    for fname in filenames:\n",
    "        with open(path_txt+'/'+fname, 'rt') as readfile:\n",
    "            infile = readfile.readlines()\n",
    "            for line in infile:\n",
    "                if line[:2] in col_list: outfile.write(line[4:])\n",
    "                elif line[:2] == 'TI': outfile.write('\\n'+line[4:])\n",
    "            outfile.write(\"\\n\\n\")\n",
    "            \n",
    "            \n",
    "with open(outfilename, 'r') as f:\n",
    "    data = f.read().replace('\\n','@').replace('@@','\\n')\n",
    "    \n",
    "data = data[1:]\n",
    "\n",
    "    \n",
    "set2 = pd.read_csv(pd.compat.StringIO(data), header=None, sep = '@', low_memory=True, error_bad_lines=False)"
   ]
  },
  {
   "cell_type": "code",
   "execution_count": 7,
   "metadata": {},
   "outputs": [
    {
     "name": "stderr",
     "output_type": "stream",
     "text": [
      "b'Skipping line 14663: expected 10 fields, saw 11\\nSkipping line 24014: expected 10 fields, saw 11\\nSkipping line 26959: expected 10 fields, saw 12\\n'\n"
     ]
    }
   ],
   "source": [
    "\n",
    "filenames = os.listdir('C:/Users/240-370-8956/Dropbox/Research/JEL_codes/Data/econlit_txt/blah3')\n",
    "\n",
    "\n",
    "path_txt = 'C:/Users/240-370-8956/Dropbox/Research/JEL_codes/Data/econlit_txt/blah3'\n",
    "col_list = [ 'AU', 'AF', 'SO', 'DT', 'DE', 'PT', 'IS', 'UD', 'AN','\\n']\n",
    "\n",
    "\n",
    "with open(outfilename, 'wt') as outfile:\n",
    "    for fname in filenames:\n",
    "        with open(path_txt+'/'+fname, 'rt') as readfile:\n",
    "            infile = readfile.readlines()\n",
    "            for line in infile:\n",
    "                if line[:2] in col_list: outfile.write(line[4:])\n",
    "                elif line[:2] == 'TI': outfile.write('\\n'+line[4:])\n",
    "            outfile.write(\"\\n\\n\")\n",
    "            \n",
    "            \n",
    "with open(outfilename, 'r') as f:\n",
    "    data = f.read().replace('\\n','@').replace('@@','\\n')\n",
    "    \n",
    "data = data[1:]\n",
    "\n",
    "    \n",
    "set3 = pd.read_csv(pd.compat.StringIO(data), header=None, sep = '@', low_memory=True, error_bad_lines=False)"
   ]
  },
  {
   "cell_type": "code",
   "execution_count": 8,
   "metadata": {},
   "outputs": [
    {
     "name": "stderr",
     "output_type": "stream",
     "text": [
      "b'Skipping line 12774: expected 10 fields, saw 11\\nSkipping line 49019: expected 10 fields, saw 11\\n'\n",
      "b'Skipping line 67173: expected 10 fields, saw 11\\nSkipping line 69253: expected 10 fields, saw 11\\n'\n"
     ]
    }
   ],
   "source": [
    "\n",
    "filenames = os.listdir('C:/Users/240-370-8956/Dropbox/Research/JEL_codes/Data/econlit_txt/blah4')\n",
    "\n",
    "\n",
    "path_txt = 'C:/Users/240-370-8956/Dropbox/Research/JEL_codes/Data/econlit_txt/blah4'\n",
    "col_list = [ 'AU', 'AF', 'SO', 'DT', 'DE', 'PT', 'IS', 'UD', 'AN','\\n']\n",
    "\n",
    "\n",
    "with open(outfilename, 'wt') as outfile:\n",
    "    for fname in filenames:\n",
    "        with open(path_txt+'/'+fname, 'rt') as readfile:\n",
    "            infile = readfile.readlines()\n",
    "            for line in infile:\n",
    "                if line[:2] in col_list: outfile.write(line[4:])\n",
    "                elif line[:2] == 'TI': outfile.write('\\n'+line[4:])\n",
    "            outfile.write(\"\\n\\n\")\n",
    "            \n",
    "            \n",
    "with open(outfilename, 'r') as f:\n",
    "    data = f.read().replace('\\n','@').replace('@@','\\n')\n",
    "    \n",
    "data = data[1:]\n",
    "\n",
    "    \n",
    "set4 = pd.read_csv(pd.compat.StringIO(data), header=None, sep = '@', low_memory=True, error_bad_lines=False)"
   ]
  },
  {
   "cell_type": "code",
   "execution_count": 9,
   "metadata": {},
   "outputs": [],
   "source": [
    "all_papers = pd.concat([set1, set2, set3, set4], ignore_index=True)\n"
   ]
  },
  {
   "cell_type": "code",
   "execution_count": null,
   "metadata": {},
   "outputs": [],
   "source": []
  },
  {
   "cell_type": "code",
   "execution_count": null,
   "metadata": {},
   "outputs": [],
   "source": [
    "set2.to_csv('C:/Users/240-370-8956/Dropbox/Research/JEL_codes/Data/10_14_all.csv', chunksize=100)\n"
   ]
  },
  {
   "cell_type": "code",
   "execution_count": 11,
   "metadata": {},
   "outputs": [
    {
     "data": {
      "text/html": [
       "<div>\n",
       "<style scoped>\n",
       "    .dataframe tbody tr th:only-of-type {\n",
       "        vertical-align: middle;\n",
       "    }\n",
       "\n",
       "    .dataframe tbody tr th {\n",
       "        vertical-align: top;\n",
       "    }\n",
       "\n",
       "    .dataframe thead th {\n",
       "        text-align: right;\n",
       "    }\n",
       "</style>\n",
       "<table border=\"1\" class=\"dataframe\">\n",
       "  <thead>\n",
       "    <tr style=\"text-align: right;\">\n",
       "      <th></th>\n",
       "      <th>0</th>\n",
       "      <th>1</th>\n",
       "      <th>2</th>\n",
       "      <th>3</th>\n",
       "      <th>4</th>\n",
       "      <th>5</th>\n",
       "      <th>6</th>\n",
       "      <th>7</th>\n",
       "      <th>8</th>\n",
       "      <th>9</th>\n",
       "    </tr>\n",
       "  </thead>\n",
       "  <tbody>\n",
       "    <tr>\n",
       "      <th>223100</th>\n",
       "      <td>Loss Aversion and Individual Characteristics: ...</td>\n",
       "      <td>Hjorth, Katrine; Fosgerau, Mogens</td>\n",
       "      <td>Technical U Denmark and U Copenhagen; Technica...</td>\n",
       "      <td>Environmental and Resource Economics, January ...</td>\n",
       "      <td>January 2012</td>\n",
       "      <td>Criteria for Decision-Making under Risk and Un...</td>\n",
       "      <td>09246460</td>\n",
       "      <td>Journal Article</td>\n",
       "      <td>20120101.0</td>\n",
       "      <td>1276879.0</td>\n",
       "    </tr>\n",
       "    <tr>\n",
       "      <th>223101</th>\n",
       "      <td>Publisher's Note</td>\n",
       "      <td>Loos, Jeroen</td>\n",
       "      <td>Unlisted</td>\n",
       "      <td>Economics Letters, January 2012, v. 114, iss. ...</td>\n",
       "      <td>January 2012</td>\n",
       "      <td>Introductory Material          (Y20);</td>\n",
       "      <td>01651765</td>\n",
       "      <td>Journal Article</td>\n",
       "      <td>20120101.0</td>\n",
       "      <td>1276670.0</td>\n",
       "    </tr>\n",
       "    <tr>\n",
       "      <th>223102</th>\n",
       "      <td>Preface</td>\n",
       "      <td>Cassidy, Michael J.; Skabardonis, Alexander</td>\n",
       "      <td>U CA, Berkeley; U CA, Berkeley</td>\n",
       "      <td>Transportation Research: Part E: Logistics and...</td>\n",
       "      <td>January 2012</td>\n",
       "      <td>Introductory Material          (Y20);</td>\n",
       "      <td>13665545</td>\n",
       "      <td>Journal Article</td>\n",
       "      <td>20111201.0</td>\n",
       "      <td>1274471.0</td>\n",
       "    </tr>\n",
       "    <tr>\n",
       "      <th>223103</th>\n",
       "      <td>Corrigendum: Emerging Market Currency Excess R...</td>\n",
       "      <td>Gilmore, Stephen; Hayashi, Fumio</td>\n",
       "      <td>Future Fund, Melbourne; Hitotsubashi U</td>\n",
       "      <td>American Economic Journal: Macroeconomics, Jan...</td>\n",
       "      <td>January 2012</td>\n",
       "      <td>Financial Econometrics          (C58); Foreign...</td>\n",
       "      <td>19457707</td>\n",
       "      <td>Journal Article</td>\n",
       "      <td>20111201.0</td>\n",
       "      <td>1271368.0</td>\n",
       "    </tr>\n",
       "    <tr>\n",
       "      <th>223104</th>\n",
       "      <td>NaN</td>\n",
       "      <td>NaN</td>\n",
       "      <td>NaN</td>\n",
       "      <td>NaN</td>\n",
       "      <td>NaN</td>\n",
       "      <td>NaN</td>\n",
       "      <td>NaN</td>\n",
       "      <td>NaN</td>\n",
       "      <td>NaN</td>\n",
       "      <td>NaN</td>\n",
       "    </tr>\n",
       "  </tbody>\n",
       "</table>\n",
       "</div>"
      ],
      "text/plain": [
       "                                                        0  \\\n",
       "223100  Loss Aversion and Individual Characteristics: ...   \n",
       "223101                                   Publisher's Note   \n",
       "223102                                            Preface   \n",
       "223103  Corrigendum: Emerging Market Currency Excess R...   \n",
       "223104                                                NaN   \n",
       "\n",
       "                                                  1  \\\n",
       "223100            Hjorth, Katrine; Fosgerau, Mogens   \n",
       "223101                                 Loos, Jeroen   \n",
       "223102  Cassidy, Michael J.; Skabardonis, Alexander   \n",
       "223103             Gilmore, Stephen; Hayashi, Fumio   \n",
       "223104                                          NaN   \n",
       "\n",
       "                                                        2  \\\n",
       "223100  Technical U Denmark and U Copenhagen; Technica...   \n",
       "223101                                           Unlisted   \n",
       "223102                     U CA, Berkeley; U CA, Berkeley   \n",
       "223103             Future Fund, Melbourne; Hitotsubashi U   \n",
       "223104                                                NaN   \n",
       "\n",
       "                                                        3             4  \\\n",
       "223100  Environmental and Resource Economics, January ...  January 2012   \n",
       "223101  Economics Letters, January 2012, v. 114, iss. ...  January 2012   \n",
       "223102  Transportation Research: Part E: Logistics and...  January 2012   \n",
       "223103  American Economic Journal: Macroeconomics, Jan...  January 2012   \n",
       "223104                                                NaN           NaN   \n",
       "\n",
       "                                                        5         6  \\\n",
       "223100  Criteria for Decision-Making under Risk and Un...  09246460   \n",
       "223101             Introductory Material          (Y20);   01651765   \n",
       "223102             Introductory Material          (Y20);   13665545   \n",
       "223103  Financial Econometrics          (C58); Foreign...  19457707   \n",
       "223104                                                NaN       NaN   \n",
       "\n",
       "                      7           8          9  \n",
       "223100  Journal Article  20120101.0  1276879.0  \n",
       "223101  Journal Article  20120101.0  1276670.0  \n",
       "223102  Journal Article  20111201.0  1274471.0  \n",
       "223103  Journal Article  20111201.0  1271368.0  \n",
       "223104              NaN         NaN        NaN  "
      ]
     },
     "execution_count": 11,
     "metadata": {},
     "output_type": "execute_result"
    }
   ],
   "source": [
    "all_papers.tail()"
   ]
  }
 ],
 "metadata": {
  "kernelspec": {
   "display_name": "Python 3",
   "language": "python",
   "name": "python3"
  },
  "language_info": {
   "codemirror_mode": {
    "name": "ipython",
    "version": 3
   },
   "file_extension": ".py",
   "mimetype": "text/x-python",
   "name": "python",
   "nbconvert_exporter": "python",
   "pygments_lexer": "ipython3",
   "version": "3.7.2"
  }
 },
 "nbformat": 4,
 "nbformat_minor": 2
}
