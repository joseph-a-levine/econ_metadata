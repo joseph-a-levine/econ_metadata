{
 "cells": [
  {
   "cell_type": "code",
   "execution_count": 1,
   "metadata": {},
   "outputs": [],
   "source": [
    "# Here's what I'm going to need:\n",
    "\n",
    "import time, glob\n",
    "import os\n",
    "import shutil\n",
    "from io import StringIO\n",
    "import pandas as pd\n",
    "from selenium import webdriver\n",
    "from selenium.common.exceptions import NoSuchElementException\n",
    "from bs4 import BeautifulSoup\n",
    "import re\n",
    "\n",
    "import concurrent.futures\n",
    "\n"
   ]
  },
  {
   "cell_type": "code",
   "execution_count": 26,
   "metadata": {},
   "outputs": [],
   "source": [
    "articles_wide = pd.read_csv('C:/Users/240-370-8956/Dropbox/Research/JEL_codes/Data/10_14_all.csv')\n",
    "articles_wide.columns = ['idx', 'Title', 'Author(s)', 'Author Affiliation(s)', 'Publication', 'Date', 'JEL Codes', 'IS', 'Type', 'UD', 'AN']\n",
    "\n",
    "\n",
    "#Just doing this for size; will want some of these fields back\n",
    "articles_wide = articles_wide.drop(['IS','UD','Type','Publication', 'Date'], axis=1)\n",
    "\n",
    "articles_wide = articles_wide.dropna(subset=['JEL Codes', 'Author(s)'])\n",
    "\n"
   ]
  },
  {
   "cell_type": "code",
   "execution_count": 27,
   "metadata": {},
   "outputs": [],
   "source": [
    "JELs = pd.DataFrame(articles_wide['JEL Codes'].str.split(';').tolist(), index=articles_wide['idx']).stack()\n",
    "\n",
    "articles_wide = articles_wide.set_index('idx')"
   ]
  },
  {
   "cell_type": "code",
   "execution_count": 28,
   "metadata": {},
   "outputs": [],
   "source": [
    "JELs = JELs.str.extract(r\"\\(([A-Za-z0-9]+)\\)\", expand=False)"
   ]
  },
  {
   "cell_type": "code",
   "execution_count": 29,
   "metadata": {},
   "outputs": [],
   "source": [
    "JELs = JELs.dropna()"
   ]
  },
  {
   "cell_type": "code",
   "execution_count": 48,
   "metadata": {},
   "outputs": [],
   "source": [
    "#articles_wide.head(15)"
   ]
  },
  {
   "cell_type": "code",
   "execution_count": 47,
   "metadata": {},
   "outputs": [],
   "source": [
    "#JELs.head(15)"
   ]
  },
  {
   "cell_type": "code",
   "execution_count": 6,
   "metadata": {},
   "outputs": [],
   "source": [
    "joined_jels = articles_wide.join(JELs.rename('JEL')).drop(['JEL Codes'], axis=1)"
   ]
  },
  {
   "cell_type": "code",
   "execution_count": 46,
   "metadata": {},
   "outputs": [],
   "source": [
    "#joined_jels.head()"
   ]
  },
  {
   "cell_type": "code",
   "execution_count": 8,
   "metadata": {},
   "outputs": [],
   "source": [
    "joined_jels.to_csv('C:/Users/240-370-8956/Dropbox/Research/JEL_codes/Temp/JELs_joined.csv', chunksize=1000)"
   ]
  },
  {
   "cell_type": "code",
   "execution_count": null,
   "metadata": {},
   "outputs": [],
   "source": []
  },
  {
   "cell_type": "code",
   "execution_count": null,
   "metadata": {},
   "outputs": [],
   "source": []
  },
  {
   "cell_type": "code",
   "execution_count": null,
   "metadata": {},
   "outputs": [],
   "source": []
  },
  {
   "cell_type": "code",
   "execution_count": 32,
   "metadata": {},
   "outputs": [],
   "source": [
    "articles_wide = pd.read_csv('C:/Users/240-370-8956/Dropbox/Research/JEL_codes/Temp/JELs_joined.csv')"
   ]
  },
  {
   "cell_type": "code",
   "execution_count": 33,
   "metadata": {},
   "outputs": [],
   "source": [
    "articles_wide = articles_wide.reset_index()"
   ]
  },
  {
   "cell_type": "code",
   "execution_count": 43,
   "metadata": {},
   "outputs": [],
   "source": [
    "#articles_wide.head(10)"
   ]
  },
  {
   "cell_type": "code",
   "execution_count": 36,
   "metadata": {},
   "outputs": [],
   "source": [
    "\n",
    "articles_wide.columns = ['idx', 'idx_paper','idx_jel','Title', 'Author(s)', 'Author Affiliation(s)', 'AN','JEL']\n",
    "\n",
    "#articles_wide = articles_wide.drop(['IS','UD'], axis=1)\n",
    "\n",
    "articles_wide = articles_wide.dropna(subset=['JEL', 'Author(s)','Title'])\n",
    "\n"
   ]
  },
  {
   "cell_type": "code",
   "execution_count": 38,
   "metadata": {},
   "outputs": [],
   "source": [
    "authors = pd.DataFrame(articles_wide['Author(s)'].str.split(';').tolist(), index=articles_wide['idx']).stack()\n",
    "\n",
    "articles_wide = articles_wide.set_index('idx')"
   ]
  },
  {
   "cell_type": "code",
   "execution_count": 41,
   "metadata": {},
   "outputs": [],
   "source": [
    "\n",
    "authors = authors.dropna()\n",
    "\n",
    "joined_authors = articles_wide.join(authors.rename('Authors'))"
   ]
  },
  {
   "cell_type": "code",
   "execution_count": 45,
   "metadata": {},
   "outputs": [],
   "source": [
    "#joined_authors.head(30)"
   ]
  },
  {
   "cell_type": "code",
   "execution_count": null,
   "metadata": {},
   "outputs": [],
   "source": []
  },
  {
   "cell_type": "code",
   "execution_count": null,
   "metadata": {},
   "outputs": [],
   "source": []
  },
  {
   "cell_type": "code",
   "execution_count": null,
   "metadata": {},
   "outputs": [],
   "source": []
  },
  {
   "cell_type": "code",
   "execution_count": null,
   "metadata": {},
   "outputs": [],
   "source": []
  },
  {
   "cell_type": "code",
   "execution_count": 49,
   "metadata": {},
   "outputs": [],
   "source": [
    "articles_wide = pd.read_csv('C:/Users/240-370-8956/Dropbox/Research/JEL_codes/Temp/JELs_joined.csv')"
   ]
  },
  {
   "cell_type": "code",
   "execution_count": 50,
   "metadata": {},
   "outputs": [],
   "source": [
    "articles_wide = articles_wide.reset_index()"
   ]
  },
  {
   "cell_type": "code",
   "execution_count": 51,
   "metadata": {},
   "outputs": [],
   "source": [
    "\n",
    "articles_wide.columns = ['idx', 'idx_paper','idx_jel','Title', 'Author(s)', 'Author Affiliation(s)', 'AN','JEL']\n",
    "\n",
    "#articles_wide = articles_wide.drop(['IS','UD'], axis=1)\n",
    "\n",
    "articles_wide = articles_wide.dropna(subset=['JEL', 'Author(s)','Title'])\n",
    "\n"
   ]
  },
  {
   "cell_type": "code",
   "execution_count": 52,
   "metadata": {},
   "outputs": [],
   "source": [
    "affs = pd.DataFrame(articles_wide['Author Affiliation(s)'].str.split(';').tolist(), index=articles_wide['idx']).stack()\n",
    "\n",
    "articles_wide = articles_wide.set_index('idx')"
   ]
  },
  {
   "cell_type": "code",
   "execution_count": 60,
   "metadata": {},
   "outputs": [],
   "source": [
    "\n",
    "affs = affs.dropna()\n",
    "\n",
    "joined_affs = articles_wide.join(affs.rename('Affiliation')).drop(['Author Affiliation(s)'], axis=1)"
   ]
  },
  {
   "cell_type": "code",
   "execution_count": null,
   "metadata": {},
   "outputs": [],
   "source": [
    "#joined_affs.head(20)"
   ]
  },
  {
   "cell_type": "code",
   "execution_count": 61,
   "metadata": {},
   "outputs": [],
   "source": [
    "joined_affs.to_csv('C:/Users/240-370-8956/Dropbox/Research/JEL_codes/Temp/JELs_joined_affs.csv', chunksize=1000)"
   ]
  },
  {
   "cell_type": "code",
   "execution_count": null,
   "metadata": {},
   "outputs": [],
   "source": []
  }
 ],
 "metadata": {
  "kernelspec": {
   "display_name": "Python 3",
   "language": "python",
   "name": "python3"
  },
  "language_info": {
   "codemirror_mode": {
    "name": "ipython",
    "version": 3
   },
   "file_extension": ".py",
   "mimetype": "text/x-python",
   "name": "python",
   "nbconvert_exporter": "python",
   "pygments_lexer": "ipython3",
   "version": "3.7.2"
  }
 },
 "nbformat": 4,
 "nbformat_minor": 2
}
